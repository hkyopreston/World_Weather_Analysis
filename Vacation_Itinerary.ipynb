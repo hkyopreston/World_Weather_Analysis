{
 "cells": [
  {
   "cell_type": "markdown",
   "metadata": {},
   "source": [
    "# Challenge 3\n",
    "\n",
    "### Create direction layer to draw the route to four cities"
   ]
  },
  {
   "cell_type": "code",
   "execution_count": 1,
   "metadata": {},
   "outputs": [],
   "source": [
    "import pandas as pd\n",
    "import requests\n",
    "import gmaps\n",
    "\n",
    "from config import g_key"
   ]
  },
  {
   "cell_type": "code",
   "execution_count": 2,
   "metadata": {},
   "outputs": [
    {
     "data": {
      "text/plain": [
       "'0.9.0'"
      ]
     },
     "execution_count": 2,
     "metadata": {},
     "output_type": "execute_result"
    }
   ],
   "source": [
    "gmaps.__version__"
   ]
  },
  {
   "cell_type": "code",
   "execution_count": 3,
   "metadata": {},
   "outputs": [],
   "source": [
    "gmaps.configure(api_key=g_key)"
   ]
  },
  {
   "cell_type": "code",
   "execution_count": 4,
   "metadata": {},
   "outputs": [],
   "source": [
    "vacation_df = pd.read_csv(\"weather_data/WeatherPy_Vacation.csv\")"
   ]
  },
  {
   "cell_type": "code",
   "execution_count": 5,
   "metadata": {},
   "outputs": [
    {
     "data": {
      "text/html": [
       "<div>\n",
       "<style scoped>\n",
       "    .dataframe tbody tr th:only-of-type {\n",
       "        vertical-align: middle;\n",
       "    }\n",
       "\n",
       "    .dataframe tbody tr th {\n",
       "        vertical-align: top;\n",
       "    }\n",
       "\n",
       "    .dataframe thead th {\n",
       "        text-align: right;\n",
       "    }\n",
       "</style>\n",
       "<table border=\"1\" class=\"dataframe\">\n",
       "  <thead>\n",
       "    <tr style=\"text-align: right;\">\n",
       "      <th></th>\n",
       "      <th>City_ID</th>\n",
       "      <th>City</th>\n",
       "      <th>Country</th>\n",
       "      <th>Max Temp</th>\n",
       "      <th>Lat</th>\n",
       "      <th>Lng</th>\n",
       "      <th>Hotel Name</th>\n",
       "    </tr>\n",
       "  </thead>\n",
       "  <tbody>\n",
       "    <tr>\n",
       "      <th>0</th>\n",
       "      <td>0</td>\n",
       "      <td>Lagoa</td>\n",
       "      <td>PT</td>\n",
       "      <td>65.26</td>\n",
       "      <td>39.05</td>\n",
       "      <td>-27.98</td>\n",
       "      <td>Casa Das Faias</td>\n",
       "    </tr>\n",
       "    <tr>\n",
       "      <th>1</th>\n",
       "      <td>6</td>\n",
       "      <td>Provideniya</td>\n",
       "      <td>RU</td>\n",
       "      <td>57.20</td>\n",
       "      <td>64.38</td>\n",
       "      <td>-173.30</td>\n",
       "      <td>NaN</td>\n",
       "    </tr>\n",
       "    <tr>\n",
       "      <th>2</th>\n",
       "      <td>7</td>\n",
       "      <td>East London</td>\n",
       "      <td>ZA</td>\n",
       "      <td>64.45</td>\n",
       "      <td>-33.02</td>\n",
       "      <td>27.91</td>\n",
       "      <td>Tu Casa</td>\n",
       "    </tr>\n",
       "    <tr>\n",
       "      <th>3</th>\n",
       "      <td>9</td>\n",
       "      <td>Whitefish</td>\n",
       "      <td>US</td>\n",
       "      <td>63.00</td>\n",
       "      <td>48.41</td>\n",
       "      <td>-114.34</td>\n",
       "      <td>Best Western Rocky Mountain Lodge</td>\n",
       "    </tr>\n",
       "    <tr>\n",
       "      <th>4</th>\n",
       "      <td>11</td>\n",
       "      <td>Albany</td>\n",
       "      <td>US</td>\n",
       "      <td>87.01</td>\n",
       "      <td>42.60</td>\n",
       "      <td>-73.97</td>\n",
       "      <td>NaN</td>\n",
       "    </tr>\n",
       "    <tr>\n",
       "      <th>...</th>\n",
       "      <td>...</td>\n",
       "      <td>...</td>\n",
       "      <td>...</td>\n",
       "      <td>...</td>\n",
       "      <td>...</td>\n",
       "      <td>...</td>\n",
       "      <td>...</td>\n",
       "    </tr>\n",
       "    <tr>\n",
       "      <th>387</th>\n",
       "      <td>556</td>\n",
       "      <td>Piracuruca</td>\n",
       "      <td>BR</td>\n",
       "      <td>86.95</td>\n",
       "      <td>-3.93</td>\n",
       "      <td>-41.71</td>\n",
       "      <td>Pousada Piracuruca</td>\n",
       "    </tr>\n",
       "    <tr>\n",
       "      <th>388</th>\n",
       "      <td>561</td>\n",
       "      <td>Besancon</td>\n",
       "      <td>FR</td>\n",
       "      <td>57.99</td>\n",
       "      <td>47.25</td>\n",
       "      <td>6.02</td>\n",
       "      <td>Logis Hôtel Victor Hugo</td>\n",
       "    </tr>\n",
       "    <tr>\n",
       "      <th>389</th>\n",
       "      <td>562</td>\n",
       "      <td>Port Keats</td>\n",
       "      <td>AU</td>\n",
       "      <td>69.62</td>\n",
       "      <td>-14.25</td>\n",
       "      <td>129.55</td>\n",
       "      <td>TDC Village (Hundred Man Camp)</td>\n",
       "    </tr>\n",
       "    <tr>\n",
       "      <th>390</th>\n",
       "      <td>563</td>\n",
       "      <td>Mangrol</td>\n",
       "      <td>IN</td>\n",
       "      <td>85.03</td>\n",
       "      <td>21.12</td>\n",
       "      <td>70.12</td>\n",
       "      <td>Hotel The Royal Honours</td>\n",
       "    </tr>\n",
       "    <tr>\n",
       "      <th>391</th>\n",
       "      <td>564</td>\n",
       "      <td>Zapolyarnyy</td>\n",
       "      <td>RU</td>\n",
       "      <td>53.60</td>\n",
       "      <td>69.42</td>\n",
       "      <td>30.81</td>\n",
       "      <td>Pechenga</td>\n",
       "    </tr>\n",
       "  </tbody>\n",
       "</table>\n",
       "<p>392 rows × 7 columns</p>\n",
       "</div>"
      ],
      "text/plain": [
       "     City_ID         City Country  Max Temp    Lat     Lng  \\\n",
       "0          0        Lagoa      PT     65.26  39.05  -27.98   \n",
       "1          6  Provideniya      RU     57.20  64.38 -173.30   \n",
       "2          7  East London      ZA     64.45 -33.02   27.91   \n",
       "3          9    Whitefish      US     63.00  48.41 -114.34   \n",
       "4         11       Albany      US     87.01  42.60  -73.97   \n",
       "..       ...          ...     ...       ...    ...     ...   \n",
       "387      556   Piracuruca      BR     86.95  -3.93  -41.71   \n",
       "388      561     Besancon      FR     57.99  47.25    6.02   \n",
       "389      562   Port Keats      AU     69.62 -14.25  129.55   \n",
       "390      563      Mangrol      IN     85.03  21.12   70.12   \n",
       "391      564  Zapolyarnyy      RU     53.60  69.42   30.81   \n",
       "\n",
       "                            Hotel Name  \n",
       "0                       Casa Das Faias  \n",
       "1                                  NaN  \n",
       "2                              Tu Casa  \n",
       "3    Best Western Rocky Mountain Lodge  \n",
       "4                                  NaN  \n",
       "..                                 ...  \n",
       "387                 Pousada Piracuruca  \n",
       "388            Logis Hôtel Victor Hugo  \n",
       "389     TDC Village (Hundred Man Camp)  \n",
       "390            Hotel The Royal Honours  \n",
       "391                           Pechenga  \n",
       "\n",
       "[392 rows x 7 columns]"
      ]
     },
     "execution_count": 5,
     "metadata": {},
     "output_type": "execute_result"
    }
   ],
   "source": [
    "vacation_df"
   ]
  },
  {
   "cell_type": "code",
   "execution_count": 6,
   "metadata": {},
   "outputs": [],
   "source": [
    "# Using the template add the hotel marks to the heatmap\n",
    "\n",
    "info_box_template = \"\"\"\n",
    "<d1>\n",
    "<dtHotel Name</dt>\n",
    "<dd>{Hotel Name}</dd>\n",
    "<dt>City</dt><dd>{City}</dd>\n",
    "<dt>Country</dt><dd>{Country}</dd>\n",
    "<dt>Hotel Name</dt><dd>{Hotel Name} at {Max Temp}</dd>\n",
    "\"\"\"\n",
    "\n",
    "hotel_info = [info_box_template.format(**row) for index, row in vacation_df.iterrows()]\n",
    "locations = vacation_df[[\"Lat\", \"Lng\"]]"
   ]
  },
  {
   "cell_type": "code",
   "execution_count": 7,
   "metadata": {},
   "outputs": [
    {
     "data": {
      "application/vnd.jupyter.widget-view+json": {
       "model_id": "738dc5fc39a649f198b666e803f15449",
       "version_major": 2,
       "version_minor": 0
      },
      "text/plain": [
       "Figure(layout=FigureLayout(height='420px'))"
      ]
     },
     "metadata": {},
     "output_type": "display_data"
    }
   ],
   "source": [
    "# Create marker layers\n",
    "\n",
    "marker_layer = gmaps.marker_layer(locations, info_box_content=hotel_info)\n",
    "fig = gmaps.figure()\n",
    "fig.add_layer(marker_layer)\n",
    "\n",
    "fig"
   ]
  },
  {
   "cell_type": "code",
   "execution_count": 8,
   "metadata": {},
   "outputs": [],
   "source": [
    "vacation_start = vacation_df.loc[vacation_df[\"City\"] == \"Saint-Francois\"]\n",
    "vacation_end = vacation_df.loc[vacation_df[\"City\"] == \"Lannion\"]\n",
    "vacation_stop1 = vacation_df.loc[vacation_df[\"City\"] == \"Besancon\"]\n",
    "vacation_stop2 = vacation_df.loc[vacation_df[\"City\"] == \"Paris\"]"
   ]
  },
  {
   "cell_type": "code",
   "execution_count": 9,
   "metadata": {},
   "outputs": [
    {
     "name": "stdout",
     "output_type": "stream",
     "text": [
      "(46.42, 3.91)\n",
      "(48.75, -3.42)\n",
      "(47.25, 6.02)\n",
      "(48.85, 2.35)\n"
     ]
    }
   ],
   "source": [
    "start = vacation_start[\"Lat\"].values[0], vacation_start[\"Lng\"].values[0]\n",
    "end = vacation_end[\"Lat\"].values[0], vacation_end[\"Lng\"].values[0]\n",
    "stop1 = vacation_stop1[\"Lat\"].values[0], vacation_stop1[\"Lng\"].values[0]\n",
    "stop2 = vacation_stop2[\"Lat\"].values[0], vacation_stop2[\"Lng\"].values[0]\n",
    "\n",
    "print(start)\n",
    "print(end)\n",
    "print(stop1)\n",
    "print(stop2)"
   ]
  },
  {
   "cell_type": "code",
   "execution_count": 10,
   "metadata": {},
   "outputs": [
    {
     "data": {
      "application/vnd.jupyter.widget-view+json": {
       "model_id": "1e30f86cb8ae44f1a960609c3a460425",
       "version_major": 2,
       "version_minor": 0
      },
      "text/plain": [
       "Figure(layout=FigureLayout(height='420px'))"
      ]
     },
     "metadata": {},
     "output_type": "display_data"
    }
   ],
   "source": [
    "fig = gmaps.figure()\n",
    "\n",
    "vacation_itinerary = gmaps.directions_layer(\n",
    "    start, end, waypoints = [stop1, stop2], \n",
    "    travel_mode = \"DRIVING\")\n",
    "\n",
    "fig.add_layer(vacation_itinerary)\n",
    "fig"
   ]
  },
  {
   "cell_type": "code",
   "execution_count": 11,
   "metadata": {},
   "outputs": [
    {
     "data": {
      "text/html": [
       "<div>\n",
       "<style scoped>\n",
       "    .dataframe tbody tr th:only-of-type {\n",
       "        vertical-align: middle;\n",
       "    }\n",
       "\n",
       "    .dataframe tbody tr th {\n",
       "        vertical-align: top;\n",
       "    }\n",
       "\n",
       "    .dataframe thead th {\n",
       "        text-align: right;\n",
       "    }\n",
       "</style>\n",
       "<table border=\"1\" class=\"dataframe\">\n",
       "  <thead>\n",
       "    <tr style=\"text-align: right;\">\n",
       "      <th></th>\n",
       "      <th>City_ID</th>\n",
       "      <th>City</th>\n",
       "      <th>Country</th>\n",
       "      <th>Max Temp</th>\n",
       "      <th>Lat</th>\n",
       "      <th>Lng</th>\n",
       "      <th>Hotel Name</th>\n",
       "    </tr>\n",
       "  </thead>\n",
       "  <tbody>\n",
       "    <tr>\n",
       "      <th>66</th>\n",
       "      <td>108</td>\n",
       "      <td>Saint-Francois</td>\n",
       "      <td>FR</td>\n",
       "      <td>64.40</td>\n",
       "      <td>46.42</td>\n",
       "      <td>3.91</td>\n",
       "      <td>Manoir Du Bonheur</td>\n",
       "    </tr>\n",
       "    <tr>\n",
       "      <th>364</th>\n",
       "      <td>525</td>\n",
       "      <td>Lannion</td>\n",
       "      <td>FR</td>\n",
       "      <td>59.00</td>\n",
       "      <td>48.75</td>\n",
       "      <td>-3.42</td>\n",
       "      <td>Hotel Arcadia</td>\n",
       "    </tr>\n",
       "    <tr>\n",
       "      <th>388</th>\n",
       "      <td>561</td>\n",
       "      <td>Besancon</td>\n",
       "      <td>FR</td>\n",
       "      <td>57.99</td>\n",
       "      <td>47.25</td>\n",
       "      <td>6.02</td>\n",
       "      <td>Logis Hôtel Victor Hugo</td>\n",
       "    </tr>\n",
       "    <tr>\n",
       "      <th>321</th>\n",
       "      <td>470</td>\n",
       "      <td>Paris</td>\n",
       "      <td>FR</td>\n",
       "      <td>68.00</td>\n",
       "      <td>48.85</td>\n",
       "      <td>2.35</td>\n",
       "      <td>Citadines Saint-Germain-des-Prés Paris</td>\n",
       "    </tr>\n",
       "  </tbody>\n",
       "</table>\n",
       "</div>"
      ],
      "text/plain": [
       "     City_ID            City Country  Max Temp    Lat   Lng  \\\n",
       "66       108  Saint-Francois      FR     64.40  46.42  3.91   \n",
       "364      525         Lannion      FR     59.00  48.75 -3.42   \n",
       "388      561        Besancon      FR     57.99  47.25  6.02   \n",
       "321      470           Paris      FR     68.00  48.85  2.35   \n",
       "\n",
       "                                 Hotel Name  \n",
       "66                        Manoir Du Bonheur  \n",
       "364                           Hotel Arcadia  \n",
       "388                 Logis Hôtel Victor Hugo  \n",
       "321  Citadines Saint-Germain-des-Prés Paris  "
      ]
     },
     "execution_count": 11,
     "metadata": {},
     "output_type": "execute_result"
    }
   ],
   "source": [
    "# Create markers\n",
    "\n",
    "itinerary_df = pd.concat([vacation_start, vacation_end, vacation_stop1, vacation_stop2])\n",
    "itinerary_df"
   ]
  },
  {
   "cell_type": "code",
   "execution_count": 13,
   "metadata": {},
   "outputs": [
    {
     "data": {
      "text/html": [
       "<div>\n",
       "<style scoped>\n",
       "    .dataframe tbody tr th:only-of-type {\n",
       "        vertical-align: middle;\n",
       "    }\n",
       "\n",
       "    .dataframe tbody tr th {\n",
       "        vertical-align: top;\n",
       "    }\n",
       "\n",
       "    .dataframe thead th {\n",
       "        text-align: right;\n",
       "    }\n",
       "</style>\n",
       "<table border=\"1\" class=\"dataframe\">\n",
       "  <thead>\n",
       "    <tr style=\"text-align: right;\">\n",
       "      <th></th>\n",
       "      <th>City_ID</th>\n",
       "      <th>City</th>\n",
       "      <th>Country</th>\n",
       "      <th>Max Temp</th>\n",
       "      <th>Lat</th>\n",
       "      <th>Lng</th>\n",
       "      <th>Hotel Name</th>\n",
       "    </tr>\n",
       "  </thead>\n",
       "  <tbody>\n",
       "    <tr>\n",
       "      <th>0</th>\n",
       "      <td>108</td>\n",
       "      <td>Saint-Francois</td>\n",
       "      <td>FR</td>\n",
       "      <td>64.40</td>\n",
       "      <td>46.42</td>\n",
       "      <td>3.91</td>\n",
       "      <td>Manoir Du Bonheur</td>\n",
       "    </tr>\n",
       "    <tr>\n",
       "      <th>1</th>\n",
       "      <td>525</td>\n",
       "      <td>Lannion</td>\n",
       "      <td>FR</td>\n",
       "      <td>59.00</td>\n",
       "      <td>48.75</td>\n",
       "      <td>-3.42</td>\n",
       "      <td>Hotel Arcadia</td>\n",
       "    </tr>\n",
       "    <tr>\n",
       "      <th>2</th>\n",
       "      <td>561</td>\n",
       "      <td>Besancon</td>\n",
       "      <td>FR</td>\n",
       "      <td>57.99</td>\n",
       "      <td>47.25</td>\n",
       "      <td>6.02</td>\n",
       "      <td>Logis Hôtel Victor Hugo</td>\n",
       "    </tr>\n",
       "    <tr>\n",
       "      <th>3</th>\n",
       "      <td>470</td>\n",
       "      <td>Paris</td>\n",
       "      <td>FR</td>\n",
       "      <td>68.00</td>\n",
       "      <td>48.85</td>\n",
       "      <td>2.35</td>\n",
       "      <td>Citadines Saint-Germain-des-Prés Paris</td>\n",
       "    </tr>\n",
       "  </tbody>\n",
       "</table>\n",
       "</div>"
      ],
      "text/plain": [
       "   City_ID            City Country  Max Temp    Lat   Lng  \\\n",
       "0      108  Saint-Francois      FR     64.40  46.42  3.91   \n",
       "1      525         Lannion      FR     59.00  48.75 -3.42   \n",
       "2      561        Besancon      FR     57.99  47.25  6.02   \n",
       "3      470           Paris      FR     68.00  48.85  2.35   \n",
       "\n",
       "                               Hotel Name  \n",
       "0                       Manoir Du Bonheur  \n",
       "1                           Hotel Arcadia  \n",
       "2                 Logis Hôtel Victor Hugo  \n",
       "3  Citadines Saint-Germain-des-Prés Paris  "
      ]
     },
     "execution_count": 13,
     "metadata": {},
     "output_type": "execute_result"
    }
   ],
   "source": [
    "itinerary_df.reset_index(drop=True)"
   ]
  },
  {
   "cell_type": "code",
   "execution_count": 14,
   "metadata": {},
   "outputs": [],
   "source": [
    "# Using the template add the hotel marks to the map\n",
    "\n",
    "info_box_template = \"\"\"\n",
    "<d1>\n",
    "<dtHotel Name</dt>\n",
    "<dd>{Hotel Name}</dd>\n",
    "<dt>City</dt><dd>{City}</dd>\n",
    "<dt>Country</dt><dd>{Country}</dd>\n",
    "<dt>Hotel Name</dt><dd>{Hotel Name} at {Max Temp}</dd>\n",
    "\"\"\"\n",
    "\n",
    "hotel_info = [info_box_template.format(**row) for index, row in itinerary_df.iterrows()]\n",
    "locations = itinerary_df[[\"Lat\", \"Lng\"]]"
   ]
  },
  {
   "cell_type": "code",
   "execution_count": 15,
   "metadata": {},
   "outputs": [
    {
     "data": {
      "application/vnd.jupyter.widget-view+json": {
       "model_id": "9c8dcd9bedc049b88a0a6537c1010019",
       "version_major": 2,
       "version_minor": 0
      },
      "text/plain": [
       "Figure(layout=FigureLayout(height='420px'))"
      ]
     },
     "metadata": {},
     "output_type": "display_data"
    }
   ],
   "source": [
    "# Create marker layers\n",
    "\n",
    "marker_layer = gmaps.marker_layer(locations, info_box_content=hotel_info)\n",
    "fig = gmaps.figure()\n",
    "fig.add_layer(marker_layer)\n",
    "\n",
    "fig"
   ]
  },
  {
   "cell_type": "code",
   "execution_count": null,
   "metadata": {},
   "outputs": [],
   "source": []
  }
 ],
 "metadata": {
  "kernelspec": {
   "display_name": "PythonData",
   "language": "python",
   "name": "pythondata"
  },
  "language_info": {
   "codemirror_mode": {
    "name": "ipython",
    "version": 3
   },
   "file_extension": ".py",
   "mimetype": "text/x-python",
   "name": "python",
   "nbconvert_exporter": "python",
   "pygments_lexer": "ipython3",
   "version": "3.7.7"
  }
 },
 "nbformat": 4,
 "nbformat_minor": 4
}
